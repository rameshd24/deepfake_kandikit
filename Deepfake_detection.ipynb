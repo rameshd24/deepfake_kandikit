{
 "cells": [
  {
   "cell_type": "markdown",
   "id": "a2220df6",
   "metadata": {},
   "source": [
    "# Import Libraries"
   ]
  },
  {
   "cell_type": "code",
   "execution_count": null,
   "id": "7249bea4",
   "metadata": {},
   "outputs": [],
   "source": [
    "import gradio as gr\n",
    "import torch\n",
    "import torch.nn.functional as F\n",
    "from facenet_pytorch import MTCNN, InceptionResnetV1\n",
    "import numpy as np\n",
    "from PIL import Image\n",
    "import cv2\n",
    "from pytorch_grad_cam import GradCAM\n",
    "from pytorch_grad_cam.utils.model_targets import ClassifierOutputTarget\n",
    "from pytorch_grad_cam.utils.image import show_cam_on_image\n",
    "import warnings\n",
    "warnings.filterwarnings(\"ignore\")"
   ]
  },
  {
   "cell_type": "markdown",
   "id": "d25e1c5d",
   "metadata": {},
   "source": [
    "# Download and Load Model"
   ]
  },
  {
   "cell_type": "code",
   "execution_count": null,
   "id": "237fbf44",
   "metadata": {},
   "outputs": [],
   "source": [
    "DEVICE = 'cuda:0' if torch.cuda.is_available() else 'cpu'\n",
    "\n",
    "mtcnn = MTCNN(\n",
    "    select_largest=False,\n",
    "    post_process=False,\n",
    "    device=DEVICE\n",
    ").to(DEVICE).eval()"
   ]
  },
  {
   "cell_type": "code",
   "execution_count": null,
   "id": "f3ef2b4f",
   "metadata": {},
   "outputs": [],
   "source": [
    "model = InceptionResnetV1(\n",
    "    pretrained=\"vggface2\",\n",
    "    classify=True,\n",
    "    num_classes=1,\n",
    "    device=DEVICE\n",
    ")\n",
    "\n",
    "checkpoint = torch.load(\"resnetinceptionv1_epoch_32.pth\", map_location=torch.device('cpu'))\n",
    "model.load_state_dict(checkpoint['model_state_dict'])\n",
    "model.to(DEVICE)\n",
    "model.eval()"
   ]
  },
  {
   "cell_type": "markdown",
   "id": "a499194a",
   "metadata": {},
   "source": [
    "# Model Inference "
   ]
  },
  {
   "cell_type": "code",
   "execution_count": null,
   "id": "376e6cd6",
   "metadata": {},
   "outputs": [],
   "source": [
    "def predict(input_image:Image.Image):\n",
    "    \"\"\"Predict the label of the input_image\"\"\"\n",
    "    face = mtcnn(input_image)\n",
    "    if face is None:\n",
    "        raise Exception('No face detected')\n",
    "    face = face.unsqueeze(0) # add the batch dimension\n",
    "    face = F.interpolate(face, size=(256, 256), mode='bilinear', align_corners=False)\n",
    "    \n",
    "    # convert the face into a numpy array to be able to plot it\n",
    "    prev_face = face.squeeze(0).permute(1, 2, 0).cpu().detach().int().numpy()\n",
    "    prev_face = prev_face.astype('uint8')\n",
    "\n",
    "    face = face.to(DEVICE)\n",
    "    face = face.to(torch.float32)\n",
    "    face = face / 255.0\n",
    "    face_image_to_plot = face.squeeze(0).permute(1, 2, 0).cpu().detach().int().numpy()\n",
    "\n",
    "    target_layers=[model.block8.branch1[-1]]\n",
    "    use_cuda = True if torch.cuda.is_available() else False\n",
    "    cam = GradCAM(model=model, target_layers=target_layers, use_cuda=use_cuda)\n",
    "    targets = [ClassifierOutputTarget(0)]\n",
    "\n",
    "    grayscale_cam = cam(input_tensor=face, targets=targets, eigen_smooth=True)\n",
    "    grayscale_cam = grayscale_cam[0, :]\n",
    "    visualization = show_cam_on_image(face_image_to_plot, grayscale_cam, use_rgb=True)\n",
    "    face_with_mask = cv2.addWeighted(prev_face, 1, visualization, 0.5, 0)\n",
    "\n",
    "    with torch.no_grad():\n",
    "        output = torch.sigmoid(model(face).squeeze(0))\n",
    "        prediction = \"real\" if output.item() < 0.5 else \"fake\"\n",
    "        \n",
    "        real_prediction = 1 - output.item()\n",
    "        fake_prediction = output.item()\n",
    "        \n",
    "        confidences = {\n",
    "            'real': real_prediction,\n",
    "            'fake': fake_prediction\n",
    "        }\n",
    "    return confidences, face_with_mask\n"
   ]
  },
  {
   "cell_type": "markdown",
   "id": "14f47b5a",
   "metadata": {},
   "source": [
    "# Gradio Interface"
   ]
  },
  {
   "cell_type": "code",
   "execution_count": null,
   "id": "d62177b5",
   "metadata": {},
   "outputs": [],
   "source": [
    "interface = gr.Interface(\n",
    "    fn=predict,\n",
    "    inputs=[\n",
    "        gr.inputs.Image(label=\"Input Image\", type=\"pil\")\n",
    "    ],\n",
    "    outputs=[\n",
    "        gr.outputs.Label(label=\"Class\"),\n",
    "        gr.outputs.Image(label=\"Face with Explainability\", type=\"pil\")\n",
    "    ],\n",
    ").launch()"
   ]
  },
  {
   "cell_type": "code",
   "execution_count": null,
   "id": "0c0b293c",
   "metadata": {},
   "outputs": [],
   "source": []
  }
 ],
 "metadata": {
  "kernelspec": {
   "display_name": "Python 3 (ipykernel)",
   "language": "python",
   "name": "python3"
  },
  "language_info": {
   "codemirror_mode": {
    "name": "ipython",
    "version": 3
   },
   "file_extension": ".py",
   "mimetype": "text/x-python",
   "name": "python",
   "nbconvert_exporter": "python",
   "pygments_lexer": "ipython3",
   "version": "3.11.5"
  }
 },
 "nbformat": 4,
 "nbformat_minor": 5
}
